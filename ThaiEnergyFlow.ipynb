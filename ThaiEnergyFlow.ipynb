{
 "cells": [
  {
   "cell_type": "code",
   "execution_count": 1,
   "id": "7f5bdd78-3e00-41bf-a515-c97b75b122b8",
   "metadata": {
    "id": "7f5bdd78-3e00-41bf-a515-c97b75b122b8"
   },
   "outputs": [],
   "source": [
    "#Laos Small Group Project\n",
    "\n",
    "#This python script models the Laotian power network in 2050 following the Net-Zero Scenario data proposed by the team. The domestic network\n",
    "#is simplified into 4 regions (North, Central 1, Central 2, South), and generation is distributed along them according to previously identified\n",
    "#renewable energy potential and land constraints.\n",
    "\n",
    "#Domestic demand in 2050 is distributed across the 4 regions proportionally to population\n",
    "#Export demand is based on export commitments to Thailand, Vietnam, China, Myanmar, and Cambodia and following existing infrastructures\n",
    "\n",
    "#Local voltage levels are at 115kV, while exports to Vietnam and Thailand are at 230kV, with 3 transformers used to upgrade voltage levels\n",
    "\n",
    "#All input parameters are available in the excel sheet \"laos Python Model Inputs\" also available in the same GitHub folder"
   ]
  },
  {
   "cell_type": "code",
   "execution_count": 2,
   "id": "c9f9dd0b-cd92-4ae7-af52-e4b98baadce7",
   "metadata": {},
   "outputs": [],
   "source": [
    "# Import libraries\n",
    "import pandas as pd\n",
    "import pandapower as pp\n",
    "# from pandapower.plotting.plotly import simple_plotly\n",
    "import pandapower.plotting as plot\n"
   ]
  },
  {
   "cell_type": "code",
   "execution_count": 3,
   "id": "37fca963-4c79-4dc3-8504-04b05dfa179e",
   "metadata": {
    "id": "37fca963-4c79-4dc3-8504-04b05dfa179e"
   },
   "outputs": [],
   "source": [
    "# Create network\n",
    "net = pp.create_empty_network() \n"
   ]
  },
  {
   "cell_type": "code",
   "execution_count": 4,
   "id": "8HFwH2UptmfX",
   "metadata": {
    "id": "8HFwH2UptmfX"
   },
   "outputs": [],
   "source": [
    "#Read bus data from excel\n",
    "bus_df= pd.read_excel('ThaiModelInput.xlsx', sheet_name='buses',nrows=4)\n",
    "#bus_df"
   ]
  },
  {
   "cell_type": "code",
   "execution_count": 5,
   "id": "PyckLijDtsaf",
   "metadata": {
    "id": "PyckLijDtsaf"
   },
   "outputs": [
    {
     "data": {
      "text/html": [
       "<div>\n",
       "<style scoped>\n",
       "    .dataframe tbody tr th:only-of-type {\n",
       "        vertical-align: middle;\n",
       "    }\n",
       "\n",
       "    .dataframe tbody tr th {\n",
       "        vertical-align: top;\n",
       "    }\n",
       "\n",
       "    .dataframe thead th {\n",
       "        text-align: right;\n",
       "    }\n",
       "</style>\n",
       "<table border=\"1\" class=\"dataframe\">\n",
       "  <thead>\n",
       "    <tr style=\"text-align: right;\">\n",
       "      <th></th>\n",
       "      <th>name</th>\n",
       "      <th>vn_kv</th>\n",
       "      <th>type</th>\n",
       "      <th>zone</th>\n",
       "      <th>in_service</th>\n",
       "      <th>min_vm_pu</th>\n",
       "    </tr>\n",
       "  </thead>\n",
       "  <tbody>\n",
       "    <tr>\n",
       "      <th>0</th>\n",
       "      <td>North</td>\n",
       "      <td>500.0</td>\n",
       "      <td>b</td>\n",
       "      <td>None</td>\n",
       "      <td>True</td>\n",
       "      <td>0.85</td>\n",
       "    </tr>\n",
       "    <tr>\n",
       "      <th>1</th>\n",
       "      <td>Northeast</td>\n",
       "      <td>230.0</td>\n",
       "      <td>b</td>\n",
       "      <td>None</td>\n",
       "      <td>True</td>\n",
       "      <td>0.85</td>\n",
       "    </tr>\n",
       "    <tr>\n",
       "      <th>2</th>\n",
       "      <td>Bangkok</td>\n",
       "      <td>500.0</td>\n",
       "      <td>b</td>\n",
       "      <td>None</td>\n",
       "      <td>True</td>\n",
       "      <td>0.85</td>\n",
       "    </tr>\n",
       "    <tr>\n",
       "      <th>3</th>\n",
       "      <td>South</td>\n",
       "      <td>230.0</td>\n",
       "      <td>b</td>\n",
       "      <td>None</td>\n",
       "      <td>True</td>\n",
       "      <td>0.85</td>\n",
       "    </tr>\n",
       "  </tbody>\n",
       "</table>\n",
       "</div>"
      ],
      "text/plain": [
       "        name  vn_kv type  zone  in_service  min_vm_pu\n",
       "0      North  500.0    b  None        True       0.85\n",
       "1  Northeast  230.0    b  None        True       0.85\n",
       "2    Bangkok  500.0    b  None        True       0.85\n",
       "3      South  230.0    b  None        True       0.85"
      ]
     },
     "execution_count": 5,
     "metadata": {},
     "output_type": "execute_result"
    }
   ],
   "source": [
    "# Create buses\n",
    "b = {}\n",
    "\n",
    "for i in bus_df['bus_id']:\n",
    "  b[i] = pp.create_bus(net, vn_kv = bus_df.loc[bus_df['bus_id']==i, 'vn_kv'].values[0], name = bus_df.loc[bus_df['bus_id']==i, 'name'].values[0], geodata = eval(bus_df.loc[bus_df['bus_id']==i, 'geodata'].values[0]),min_vm_pu=0.85)\n",
    "net.bus"
   ]
  },
  {
   "cell_type": "code",
   "execution_count": 6,
   "id": "fiieHXXR1ClL",
   "metadata": {
    "id": "fiieHXXR1ClL"
   },
   "outputs": [
    {
     "data": {
      "text/plain": [
       "0"
      ]
     },
     "execution_count": 6,
     "metadata": {},
     "output_type": "execute_result"
    }
   ],
   "source": [
    "# Create one grid connection point\n",
    "connect_bus = b[0] \n",
    "vm_pu = 1.1\n",
    "\n",
    "# Create the external grid connection\n",
    "pp.create_ext_grid(net, bus=connect_bus, vm_pu=vm_pu, name = \"Slack bus\")"
   ]
  },
  {
   "cell_type": "code",
   "execution_count": 7,
   "id": "p9kmkzif1GoZ",
   "metadata": {
    "id": "p9kmkzif1GoZ"
   },
   "outputs": [],
   "source": [
    "# Import line data from excel file-- from_bus, to_bus, length_km, r_ohm_per_km, x_ohm_per_km, c_nf_per_km, max_i_ka\n",
    "line_df = pd.read_excel('ThaiModelInput.xlsx', sheet_name='lines',nrows=3)\n",
    "#line_df"
   ]
  },
  {
   "cell_type": "code",
   "execution_count": 8,
   "id": "thuqVg6Q20Z5",
   "metadata": {
    "id": "thuqVg6Q20Z5"
   },
   "outputs": [
    {
     "name": "stdout",
     "output_type": "stream",
     "text": [
      "0\n",
      "1\n",
      "2\n"
     ]
    },
    {
     "data": {
      "text/html": [
       "<div>\n",
       "<style scoped>\n",
       "    .dataframe tbody tr th:only-of-type {\n",
       "        vertical-align: middle;\n",
       "    }\n",
       "\n",
       "    .dataframe tbody tr th {\n",
       "        vertical-align: top;\n",
       "    }\n",
       "\n",
       "    .dataframe thead th {\n",
       "        text-align: right;\n",
       "    }\n",
       "</style>\n",
       "<table border=\"1\" class=\"dataframe\">\n",
       "  <thead>\n",
       "    <tr style=\"text-align: right;\">\n",
       "      <th></th>\n",
       "      <th>name</th>\n",
       "      <th>std_type</th>\n",
       "      <th>from_bus</th>\n",
       "      <th>to_bus</th>\n",
       "      <th>length_km</th>\n",
       "      <th>r_ohm_per_km</th>\n",
       "      <th>x_ohm_per_km</th>\n",
       "      <th>c_nf_per_km</th>\n",
       "      <th>g_us_per_km</th>\n",
       "      <th>max_i_ka</th>\n",
       "      <th>df</th>\n",
       "      <th>parallel</th>\n",
       "      <th>type</th>\n",
       "      <th>in_service</th>\n",
       "    </tr>\n",
       "  </thead>\n",
       "  <tbody>\n",
       "    <tr>\n",
       "      <th>0</th>\n",
       "      <td>None</td>\n",
       "      <td>None</td>\n",
       "      <td>0</td>\n",
       "      <td>2</td>\n",
       "      <td>500.0</td>\n",
       "      <td>0.01</td>\n",
       "      <td>0.01</td>\n",
       "      <td>1.000000e-09</td>\n",
       "      <td>0.0</td>\n",
       "      <td>30.0</td>\n",
       "      <td>1.0</td>\n",
       "      <td>1</td>\n",
       "      <td>None</td>\n",
       "      <td>True</td>\n",
       "    </tr>\n",
       "    <tr>\n",
       "      <th>1</th>\n",
       "      <td>None</td>\n",
       "      <td>None</td>\n",
       "      <td>2</td>\n",
       "      <td>1</td>\n",
       "      <td>500.0</td>\n",
       "      <td>0.01</td>\n",
       "      <td>0.01</td>\n",
       "      <td>1.000000e-09</td>\n",
       "      <td>0.0</td>\n",
       "      <td>20.0</td>\n",
       "      <td>1.0</td>\n",
       "      <td>1</td>\n",
       "      <td>None</td>\n",
       "      <td>True</td>\n",
       "    </tr>\n",
       "    <tr>\n",
       "      <th>2</th>\n",
       "      <td>None</td>\n",
       "      <td>None</td>\n",
       "      <td>2</td>\n",
       "      <td>3</td>\n",
       "      <td>400.0</td>\n",
       "      <td>0.01</td>\n",
       "      <td>0.01</td>\n",
       "      <td>1.000000e-09</td>\n",
       "      <td>0.0</td>\n",
       "      <td>20.0</td>\n",
       "      <td>1.0</td>\n",
       "      <td>1</td>\n",
       "      <td>None</td>\n",
       "      <td>True</td>\n",
       "    </tr>\n",
       "  </tbody>\n",
       "</table>\n",
       "</div>"
      ],
      "text/plain": [
       "   name std_type  from_bus  to_bus  length_km  r_ohm_per_km  x_ohm_per_km  \\\n",
       "0  None     None         0       2      500.0          0.01          0.01   \n",
       "1  None     None         2       1      500.0          0.01          0.01   \n",
       "2  None     None         2       3      400.0          0.01          0.01   \n",
       "\n",
       "    c_nf_per_km  g_us_per_km  max_i_ka   df  parallel  type  in_service  \n",
       "0  1.000000e-09          0.0      30.0  1.0         1  None        True  \n",
       "1  1.000000e-09          0.0      20.0  1.0         1  None        True  \n",
       "2  1.000000e-09          0.0      20.0  1.0         1  None        True  "
      ]
     },
     "execution_count": 8,
     "metadata": {},
     "output_type": "execute_result"
    }
   ],
   "source": [
    "# Create lines\n",
    "for i in line_df.index:\n",
    "  print(i)\n",
    "  pp.create_line_from_parameters(net, from_bus=b[line_df.loc[i, 'from_bus']],\n",
    "                                 to_bus=b[line_df.loc[i, 'to_bus']],\n",
    "                                 length_km=line_df.loc[i, 'length_km'],\n",
    "                                 r_ohm_per_km=line_df.loc[i, 'r_ohm_per_km'],\n",
    "                                 x_ohm_per_km=line_df.loc[i, 'x_ohm_per_km'],\n",
    "                                 c_nf_per_km=line_df.loc[i, 'c_nf_per_km'],\n",
    "                                 max_i_ka=line_df.loc[i, 'max_i_ka']\n",
    "                                 ) \n",
    "net.line"
   ]
  },
  {
   "cell_type": "code",
   "execution_count": 9,
   "id": "iTu1doft4a6H",
   "metadata": {
    "id": "iTu1doft4a6H"
   },
   "outputs": [],
   "source": [
    "# Import Load data from excel-- geolocation, bus (nearest from geolocation), p_mw\n",
    "\n",
    "load_df = pd.read_excel('ThaiModelInput.xlsx', sheet_name='loads',nrows=4)\n",
    "#load_df"
   ]
  },
  {
   "cell_type": "code",
   "execution_count": 10,
   "id": "aQWA6-sO4bE1",
   "metadata": {
    "id": "aQWA6-sO4bE1"
   },
   "outputs": [],
   "source": [
    "# Create loads\n",
    "p_mw = 'power_p_mw'\n",
    "q_mvar = 'power_q_mvar'\n",
    "\n",
    "for i in load_df['bus_id']:\n",
    "  pp.create_load(net, \n",
    "                 b[i], \n",
    "                 p_mw=load_df.loc[load_df['bus_id']==i, p_mw].values[0], \n",
    "                 q_mvar=load_df.loc[load_df['bus_id']==i, q_mvar].values[0],\n",
    "                 name=load_df.loc[load_df['bus_id']==i, 'name'].values[0])"
   ]
  },
  {
   "cell_type": "code",
   "execution_count": 11,
   "id": "c314ca37-59a2-4293-832c-3dafc8c33f73",
   "metadata": {
    "id": "c314ca37-59a2-4293-832c-3dafc8c33f73"
   },
   "outputs": [
    {
     "data": {
      "text/html": [
       "<div>\n",
       "<style scoped>\n",
       "    .dataframe tbody tr th:only-of-type {\n",
       "        vertical-align: middle;\n",
       "    }\n",
       "\n",
       "    .dataframe tbody tr th {\n",
       "        vertical-align: top;\n",
       "    }\n",
       "\n",
       "    .dataframe thead th {\n",
       "        text-align: right;\n",
       "    }\n",
       "</style>\n",
       "<table border=\"1\" class=\"dataframe\">\n",
       "  <thead>\n",
       "    <tr style=\"text-align: right;\">\n",
       "      <th></th>\n",
       "      <th>name</th>\n",
       "      <th>bus</th>\n",
       "      <th>p_mw</th>\n",
       "      <th>q_mvar</th>\n",
       "      <th>const_z_percent</th>\n",
       "      <th>const_i_percent</th>\n",
       "      <th>sn_mva</th>\n",
       "      <th>scaling</th>\n",
       "      <th>in_service</th>\n",
       "      <th>type</th>\n",
       "    </tr>\n",
       "  </thead>\n",
       "  <tbody>\n",
       "    <tr>\n",
       "      <th>0</th>\n",
       "      <td>North</td>\n",
       "      <td>0</td>\n",
       "      <td>4422.44898</td>\n",
       "      <td>2141.88980</td>\n",
       "      <td>0.0</td>\n",
       "      <td>0.0</td>\n",
       "      <td>NaN</td>\n",
       "      <td>1.0</td>\n",
       "      <td>True</td>\n",
       "      <td>wye</td>\n",
       "    </tr>\n",
       "    <tr>\n",
       "      <th>1</th>\n",
       "      <td>Northeast</td>\n",
       "      <td>1</td>\n",
       "      <td>6041.58163</td>\n",
       "      <td>2926.07153</td>\n",
       "      <td>0.0</td>\n",
       "      <td>0.0</td>\n",
       "      <td>NaN</td>\n",
       "      <td>1.0</td>\n",
       "      <td>True</td>\n",
       "      <td>wye</td>\n",
       "    </tr>\n",
       "    <tr>\n",
       "      <th>2</th>\n",
       "      <td>Bangkok</td>\n",
       "      <td>2</td>\n",
       "      <td>40077.04080</td>\n",
       "      <td>19410.19680</td>\n",
       "      <td>0.0</td>\n",
       "      <td>0.0</td>\n",
       "      <td>NaN</td>\n",
       "      <td>1.0</td>\n",
       "      <td>True</td>\n",
       "      <td>wye</td>\n",
       "    </tr>\n",
       "    <tr>\n",
       "      <th>3</th>\n",
       "      <td>South</td>\n",
       "      <td>3</td>\n",
       "      <td>4461.73469</td>\n",
       "      <td>2160.91674</td>\n",
       "      <td>0.0</td>\n",
       "      <td>0.0</td>\n",
       "      <td>NaN</td>\n",
       "      <td>1.0</td>\n",
       "      <td>True</td>\n",
       "      <td>wye</td>\n",
       "    </tr>\n",
       "  </tbody>\n",
       "</table>\n",
       "</div>"
      ],
      "text/plain": [
       "        name  bus         p_mw       q_mvar  const_z_percent  const_i_percent  \\\n",
       "0      North    0   4422.44898   2141.88980              0.0              0.0   \n",
       "1  Northeast    1   6041.58163   2926.07153              0.0              0.0   \n",
       "2    Bangkok    2  40077.04080  19410.19680              0.0              0.0   \n",
       "3      South    3   4461.73469   2160.91674              0.0              0.0   \n",
       "\n",
       "   sn_mva  scaling  in_service type  \n",
       "0     NaN      1.0        True  wye  \n",
       "1     NaN      1.0        True  wye  \n",
       "2     NaN      1.0        True  wye  \n",
       "3     NaN      1.0        True  wye  "
      ]
     },
     "execution_count": 11,
     "metadata": {},
     "output_type": "execute_result"
    }
   ],
   "source": [
    "net.load"
   ]
  },
  {
   "cell_type": "code",
   "execution_count": 12,
   "id": "qOrJcJM_6U6f",
   "metadata": {
    "id": "qOrJcJM_6U6f"
   },
   "outputs": [],
   "source": [
    "# Generators imported from excel\n",
    "vm_pu=1.1\n",
    "\n",
    "gen_df = pd.read_excel('ThaiModelInput.xlsx', sheet_name='gen',nrows=4)\n",
    "#gen_df    "
   ]
  },
  {
   "cell_type": "code",
   "execution_count": 13,
   "id": "606f9d18-6994-416a-8577-6eeefaa2b223",
   "metadata": {},
   "outputs": [
    {
     "data": {
      "text/html": [
       "<div>\n",
       "<style scoped>\n",
       "    .dataframe tbody tr th:only-of-type {\n",
       "        vertical-align: middle;\n",
       "    }\n",
       "\n",
       "    .dataframe tbody tr th {\n",
       "        vertical-align: top;\n",
       "    }\n",
       "\n",
       "    .dataframe thead th {\n",
       "        text-align: right;\n",
       "    }\n",
       "</style>\n",
       "<table border=\"1\" class=\"dataframe\">\n",
       "  <thead>\n",
       "    <tr style=\"text-align: right;\">\n",
       "      <th></th>\n",
       "      <th>name</th>\n",
       "      <th>bus</th>\n",
       "      <th>p_mw</th>\n",
       "      <th>vm_pu</th>\n",
       "      <th>sn_mva</th>\n",
       "      <th>min_q_mvar</th>\n",
       "      <th>max_q_mvar</th>\n",
       "      <th>scaling</th>\n",
       "      <th>slack</th>\n",
       "      <th>in_service</th>\n",
       "      <th>slack_weight</th>\n",
       "      <th>type</th>\n",
       "    </tr>\n",
       "  </thead>\n",
       "  <tbody>\n",
       "  </tbody>\n",
       "</table>\n",
       "</div>"
      ],
      "text/plain": [
       "Empty DataFrame\n",
       "Columns: [name, bus, p_mw, vm_pu, sn_mva, min_q_mvar, max_q_mvar, scaling, slack, in_service, slack_weight, type]\n",
       "Index: []"
      ]
     },
     "execution_count": 13,
     "metadata": {},
     "output_type": "execute_result"
    }
   ],
   "source": [
    "#Generators\n",
    "for i in gen_df['gen_id']:\n",
    "  pp.create_sgen(net, bus=gen_df.loc[gen_df['gen_id']==i, 'bus_id'].values[0],\n",
    "                 p_mw=gen_df.loc[gen_df['gen_id']==i, 'p_mw'].values[0],vm_pu=1, \n",
    "                 name=gen_df.loc[gen_df['gen_id']==i, 'name'].values[0])\n",
    "net.gen\n"
   ]
  },
  {
   "cell_type": "code",
   "execution_count": 14,
   "id": "634966a6-90e5-4b44-9f7c-65ca9960c148",
   "metadata": {},
   "outputs": [],
   "source": [
    "#Storage entries are added manually\n",
    "\n",
    "# pp.create_storage(net,0, p_mw=1348.76, max_e_mwh=25000) #North\n",
    "# pp.create_storage(net,1, p_mw=4609.91, max_e_mwh=25000) #Central 1\n",
    "# pp.create_storage(net,2, p_mw=3158.12, max_e_mwh=25000) #Central 2\n",
    "#pp.create_storage(net,3, p_mw=600, max_e_mwh=25000) #South"
   ]
  },
  {
   "cell_type": "code",
   "execution_count": 15,
   "id": "f93feee9-f5e8-4ef5-abaa-b92d69888ccf",
   "metadata": {},
   "outputs": [],
   "source": [
    "# # Create the transformers\n",
    "\n",
    "# # First Transformer\n",
    "# #North (115) to Thailand_north (230)\n",
    "# lv_bus = net.bus[net.bus.name == 'North'].index.values[0]\n",
    "# hv_bus = net.bus[net.bus.name == 'trafo_b0'].index.values[0]\n",
    "\n",
    "# # Parameters assumed equal to those of the 100 MVA 220/110 kV standard type\n",
    "# sn_mva = 400\n",
    "# vn_hv_kv = 230\n",
    "# vn_lv_kv = 115\n",
    "# vk_percent = 12\n",
    "# vkr_percent = 0.26\n",
    "# pfe_kw = 3.2\n",
    "# i0_percent = 0.06\n",
    "# pp.create_transformer_from_parameters(net, hv_bus=hv_bus, lv_bus=lv_bus, sn_mva=sn_mva, vn_hv_kv=vn_hv_kv, vn_lv_kv=vn_lv_kv, vkr_percent=vkr_percent, vk_percent=vk_percent, pfe_kw=pfe_kw, i0_percent=i0_percent)\n",
    "\n",
    "# # Second Transformer\n",
    "# #Central 1 (115) to Thailand_c1 (230)\n",
    "# lv_bus = net.bus[net.bus.name == 'Central 1'].index.values[0]\n",
    "# hv_bus = net.bus[net.bus.name == 'trafo_b1'].index.values[0]\n",
    "\n",
    "\n",
    "# sn_mva = 4000\n",
    "# vn_hv_kv = 230\n",
    "# vn_lv_kv = 115\n",
    "# vk_percent = 12\n",
    "# vkr_percent = 0.26\n",
    "# pfe_kw = 3.2\n",
    "# i0_percent = 0.06\n",
    "# pp.create_transformer_from_parameters(net, hv_bus=hv_bus, lv_bus=lv_bus, sn_mva=sn_mva, vn_hv_kv=vn_hv_kv, vn_lv_kv=vn_lv_kv, vkr_percent=vkr_percent, vk_percent=vk_percent, pfe_kw=pfe_kw, i0_percent=i0_percent)\n",
    "\n",
    "# # Third Transformer\n",
    "# #South (115) to Vietnam (230)\n",
    "# lv_bus = net.bus[net.bus.name == 'South'].index.values[0]\n",
    "# hv_bus = net.bus[net.bus.name == 'trafo_b3'].index.values[0]\n",
    "\n",
    "# sn_mva = 40000\n",
    "# vn_hv_kv = 230\n",
    "# vn_lv_kv = 115\n",
    "# vk_percent = 12\n",
    "# vkr_percent = 0.26\n",
    "# pfe_kw = 3.2\n",
    "# i0_percent = 0.06\n",
    "# pp.create_transformer_from_parameters(net, hv_bus=hv_bus, lv_bus=lv_bus, sn_mva=sn_mva, vn_hv_kv=vn_hv_kv, vn_lv_kv=vn_lv_kv, vkr_percent=vkr_percent, vk_percent=vk_percent, pfe_kw=pfe_kw, i0_percent=i0_percent)"
   ]
  },
  {
   "cell_type": "code",
   "execution_count": 16,
   "id": "9014a5b8",
   "metadata": {},
   "outputs": [
    {
     "data": {
      "image/png": "[encoded data removed]",
      "text/plain": [
       "<Figure size 1000x800 with 1 Axes>"
      ]
     },
     "metadata": {},
     "output_type": "display_data"
    },
    {
     "data": {
      "text/plain": [
       "<Axes: >"
      ]
     },
     "execution_count": 16,
     "metadata": {},
     "output_type": "execute_result"
    }
   ],
   "source": [
    "pp.plotting.simple_plot(net)"
   ]
  },
  {
   "cell_type": "code",
   "execution_count": 17,
   "id": "4378578d-6676-41c3-98a1-aaa7575ed48c",
   "metadata": {
    "id": "4378578d-6676-41c3-98a1-aaa7575ed48c"
   },
   "outputs": [
    {
     "name": "stderr",
     "output_type": "stream",
     "text": [
      "numba cannot be imported and numba functions are disabled.\n",
      "Probably the execution is slow.\n",
      "Please install numba to gain a massive speedup.\n",
      "(or if you prefer slow execution, set the flag numba=False to avoid this warning!)\n",
      "\n"
     ]
    },
    {
     "ename": "LoadflowNotConverged",
     "evalue": "Power Flow nr did not converge after 10 iterations!",
     "output_type": "error",
     "traceback": [
      "\u001b[0;31m---------------------------------------------------------------------------\u001b[0m",
      "\u001b[0;31mLoadflowNotConverged\u001b[0m                      Traceback (most recent call last)",
      "\u001b[1;32m/Users/williama/Library/Mobile Documents/com~apple~CloudDocs/William's Cloud/Oxford/Small Group Project/Modelling Playground/Thai-PandaPower/ThaiEnergyFlow.ipynb Cell 17\u001b[0m line \u001b[0;36m2\n\u001b[1;32m      <a href='vscode-notebook-cell:/Users/williama/Library/Mobile%20Documents/com~apple~CloudDocs/William%27s%20Cloud/Oxford/Small%20Group%20Project/Modelling%20Playground/Thai-PandaPower/ThaiEnergyFlow.ipynb#X21sZmlsZQ%3D%3D?line=0'>1</a>\u001b[0m \u001b[39m# Run the network using the NR algorithm\u001b[39;00m\n\u001b[0;32m----> <a href='vscode-notebook-cell:/Users/williama/Library/Mobile%20Documents/com~apple~CloudDocs/William%27s%20Cloud/Oxford/Small%20Group%20Project/Modelling%20Playground/Thai-PandaPower/ThaiEnergyFlow.ipynb#X21sZmlsZQ%3D%3D?line=1'>2</a>\u001b[0m pp\u001b[39m.\u001b[39;49mrunpp(net)\u001b[39m#, algorithm='nr', max_iteration=10000);\u001b[39;00m\n",
      "File \u001b[0;32m/opt/homebrew/lib/python3.12/site-packages/pandapower/run.py:241\u001b[0m, in \u001b[0;36mrunpp\u001b[0;34m(net, algorithm, calculate_voltage_angles, init, max_iteration, tolerance_mva, trafo_model, trafo_loading, enforce_q_lims, check_connectivity, voltage_depend_loads, consider_line_temperature, run_control, distributed_slack, tdpf, tdpf_delay_s, **kwargs)\u001b[0m\n\u001b[1;32m    239\u001b[0m _check_bus_index_and_print_warning_if_high(net)\n\u001b[1;32m    240\u001b[0m _check_gen_index_and_print_warning_if_high(net)\n\u001b[0;32m--> 241\u001b[0m _powerflow(net, \u001b[39m*\u001b[39;49m\u001b[39m*\u001b[39;49mkwargs)\n",
      "File \u001b[0;32m/opt/homebrew/lib/python3.12/site-packages/pandapower/powerflow.py:86\u001b[0m, in \u001b[0;36m_powerflow\u001b[0;34m(net, **kwargs)\u001b[0m\n\u001b[1;32m     84\u001b[0m result \u001b[39m=\u001b[39m _run_pf_algorithm(ppci, net[\u001b[39m\"\u001b[39m\u001b[39m_options\u001b[39m\u001b[39m\"\u001b[39m], \u001b[39m*\u001b[39m\u001b[39m*\u001b[39mkwargs)\n\u001b[1;32m     85\u001b[0m \u001b[39m# read the results (=ppci with results) to net\u001b[39;00m\n\u001b[0;32m---> 86\u001b[0m _ppci_to_net(result, net)\n",
      "File \u001b[0;32m/opt/homebrew/lib/python3.12/site-packages/pandapower/powerflow.py:190\u001b[0m, in \u001b[0;36m_ppci_to_net\u001b[0;34m(result, net)\u001b[0m\n\u001b[1;32m    188\u001b[0m     algorithm \u001b[39m=\u001b[39m net[\u001b[39m\"\u001b[39m\u001b[39m_options\u001b[39m\u001b[39m\"\u001b[39m][\u001b[39m\"\u001b[39m\u001b[39malgorithm\u001b[39m\u001b[39m\"\u001b[39m]\n\u001b[1;32m    189\u001b[0m     max_iteration \u001b[39m=\u001b[39m net[\u001b[39m\"\u001b[39m\u001b[39m_options\u001b[39m\u001b[39m\"\u001b[39m][\u001b[39m\"\u001b[39m\u001b[39mmax_iteration\u001b[39m\u001b[39m\"\u001b[39m]\n\u001b[0;32m--> 190\u001b[0m     \u001b[39mraise\u001b[39;00m LoadflowNotConverged(\u001b[39m\"\u001b[39m\u001b[39mPower Flow \u001b[39m\u001b[39m{0}\u001b[39;00m\u001b[39m did not converge after \u001b[39m\u001b[39m\"\u001b[39m\n\u001b[1;32m    191\u001b[0m                                \u001b[39m\"\u001b[39m\u001b[39m{1}\u001b[39;00m\u001b[39m iterations!\u001b[39m\u001b[39m\"\u001b[39m\u001b[39m.\u001b[39mformat(algorithm, max_iteration))\n\u001b[1;32m    192\u001b[0m \u001b[39melse\u001b[39;00m:\n\u001b[1;32m    193\u001b[0m     net[\u001b[39m\"\u001b[39m\u001b[39m_ppc\u001b[39m\u001b[39m\"\u001b[39m] \u001b[39m=\u001b[39m result\n",
      "\u001b[0;31mLoadflowNotConverged\u001b[0m: Power Flow nr did not converge after 10 iterations!"
     ]
    }
   ],
   "source": [
    "# Run the network using the NR algorithm\n",
    "pp.runpp(net,algorithm='nr', max_iteration=10000);\n"
   ]
  },
  {
   "cell_type": "code",
   "execution_count": null,
   "id": "8ffc35aa",
   "metadata": {},
   "outputs": [],
   "source": [
    "net.line"
   ]
  },
  {
   "cell_type": "code",
   "execution_count": null,
   "id": "3k6k3gYaO7I1",
   "metadata": {
    "id": "3k6k3gYaO7I1"
   },
   "outputs": [],
   "source": [
    "cmap_list=[(0, \"green\"), (50, \"yellow\"), (100, \"red\")]\n",
    "cmap, norm = plot.cmap_continuous(cmap_list)\n",
    "\n",
    "lc = plot.create_line_collection(net, net.line.index, zorder=1, cmap=cmap, norm=norm, linewidths=2)\n",
    "plot.draw_collections([lc], figsize=(8,6))"
   ]
  },
  {
   "cell_type": "code",
   "execution_count": null,
   "id": "ccf52cc3",
   "metadata": {},
   "outputs": [],
   "source": [
    "ideal_color = \"#4cd137\"\n",
    "too_high_color = \"blue\"\n",
    "too_low_color = \"yellow\"\n",
    "very_low_color = \"red\"\n",
    "cmap_list=[(0.8, very_low_color), (0.9, too_low_color), (1.0, ideal_color), (1.06, too_high_color)] #+6 and -10 percent for voltage regulations\n",
    "cmap, norm = plot.cmap_continuous(cmap_list)\n",
    "bc = plot.create_bus_collection(net, net.bus.index, size=0.4, zorder=2, cmap=cmap, norm=norm)\n",
    "plot.draw_collections([bc], figsize=(8,6))"
   ]
  },
  {
   "cell_type": "code",
   "execution_count": null,
   "id": "c71bc9fd",
   "metadata": {},
   "outputs": [],
   "source": [
    "ideal_color = \"#4cd137\"\n",
    "too_high_color = \"blue\"\n",
    "too_low_color = \"red\"\n",
    "cmap_list=[(0.8,\"red\"),(0.9, \"yellow\"), (1.0, ideal_color), (1.06, too_high_color)] #+6 and -10 percent for voltage regulations\n",
    "cmap, norm = plot.cmap_continuous(cmap_list)\n",
    "bc = plot.create_bus_collection(net, net.bus.index, size=0.1, zorder=2, cmap=cmap, norm=norm)\n",
    "plot.draw_collections([lc,bc], figsize=(8,6))"
   ]
  },
  {
   "cell_type": "code",
   "execution_count": null,
   "id": "81664ec0",
   "metadata": {},
   "outputs": [],
   "source": [
    "cmap_list=[(50, \"green\"), (75, \"yellow\"), (100, \"red\")]\n",
    "cmap, norm = plot.cmap_continuous(cmap_list)\n",
    "tc = pp.plotting.create_trafo_collection(net, net.trafo.index, cmap=cmap, norm=norm)\n",
    "plot.draw_collections([lc,bc, tc])"
   ]
  },
  {
   "cell_type": "code",
   "execution_count": null,
   "id": "96252a78-b6f8-46a1-b205-f6aba4e0d762",
   "metadata": {
    "id": "96252a78-b6f8-46a1-b205-f6aba4e0d762"
   },
   "outputs": [],
   "source": [
    "# Print the elements of the network\n",
    "net"
   ]
  },
  {
   "cell_type": "markdown",
   "id": "KOzkYc-Xv3aH",
   "metadata": {
    "id": "KOzkYc-Xv3aH"
   },
   "source": []
  },
  {
   "cell_type": "code",
   "execution_count": null,
   "id": "8032a839-654b-4d67-b830-90d8d261f592",
   "metadata": {
    "id": "8032a839-654b-4d67-b830-90d8d261f592"
   },
   "outputs": [],
   "source": [
    "# Display line results\n",
    "net.res_line"
   ]
  },
  {
   "cell_type": "code",
   "execution_count": null,
   "id": "-cNOPdqCu1xZ",
   "metadata": {
    "id": "-cNOPdqCu1xZ"
   },
   "outputs": [],
   "source": [
    "# Display bus results\n",
    "net.res_bus"
   ]
  },
  {
   "cell_type": "code",
   "execution_count": null,
   "id": "iU_Vsgv393gQ",
   "metadata": {
    "id": "iU_Vsgv393gQ"
   },
   "outputs": [],
   "source": [
    "# Display generator results\n",
    "net.res_gen"
   ]
  },
  {
   "cell_type": "code",
   "execution_count": null,
   "id": "df48eefc-51cd-4a35-aa93-ddef6ecd92bd",
   "metadata": {},
   "outputs": [],
   "source": [
    "#Display transformer results\n",
    "net.res_trafo"
   ]
  },
  {
   "cell_type": "code",
   "execution_count": null,
   "id": "b884ce80-550e-4588-b8fa-3cae95f44346",
   "metadata": {},
   "outputs": [],
   "source": [
    "# Plot an advanced visual of the network showing the line loading results and voltage drops\n",
    "\n",
    "import pandapower.plotting as plot\n",
    "import matplotlib.pyplot as plt\n",
    "import seaborn\n",
    "\n",
    "# Creating the line color collection\n",
    "cmap_list=[(40, \"yellow\"), (70, \"orange\"), (80, \"red\")]\n",
    "cmap, norm = plot.cmap_continuous(cmap_list)\n",
    "lc = plot.create_line_collection(net, net.line.index, zorder=1, cmap=cmap, norm=norm, linewidths=3)\n",
    "\n",
    "# Creating the bus color collection\n",
    "cmap_list=[(0.7, \"yellow\"), (0.9, \"blue\"), (1.0, \"green\")]\n",
    "cmap, norm = plot.cmap_continuous(cmap_list)\n",
    "bc = plot.create_bus_collection(net, net.bus.index, size=0.1, zorder=2, cmap=cmap, norm=norm)\n",
    "\n",
    "plot.draw_collections([lc, bc], figsize=(25,8))"
   ]
  },
  {
   "cell_type": "code",
   "execution_count": null,
   "id": "ca0d677d-3a2e-40d7-b715-80c2defd42ee",
   "metadata": {},
   "outputs": [],
   "source": [
    "#Print results to an excel file\n",
    "#pp.to_excel(net, \"results.xlsx\") "
   ]
  },
  {
   "cell_type": "code",
   "execution_count": null,
   "id": "1b3e8fd8-dbe0-4a9a-9802-bb07953ec9f5",
   "metadata": {},
   "outputs": [],
   "source": []
  }
 ],
 "metadata": {
  "accelerator": "GPU",
  "colab": {
   "collapsed_sections": [],
   "name": "debugging_balearic_power_sharon.ipynb",
   "provenance": []
  },
  "kernelspec": {
   "display_name": "Python 3",
   "language": "python",
   "name": "python3"
  },
  "language_info": {
   "codemirror_mode": {
    "name": "ipython",
    "version": 3
   },
   "file_extension": ".py",
   "mimetype": "text/x-python",
   "name": "python",
   "nbconvert_exporter": "python",
   "pygments_lexer": "ipython3",
   "version": "3.12.2"
  }
 },
 "nbformat": 4,
 "nbformat_minor": 5
}
